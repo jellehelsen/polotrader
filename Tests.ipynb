{
 "cells": [
  {
   "cell_type": "code",
   "execution_count": 35,
   "metadata": {},
   "outputs": [
    {
     "name": "stdout",
     "output_type": "stream",
     "text": [
      "Beating the market: 2.448718094583291% vs 0.642835242352735%\n"
     ]
    }
   ],
   "source": [
    "from polotrader.strategies import MFI, BuyAndHold, Combined\n",
    "from polotrader.backtester import BackTester\n",
    "bt = BackTester(strategy=MFI(), resolution=300, pair=('btc', 'eth'))\n",
    "bm = BackTester(strategy=BuyAndHold(), pair=('btc', 'eth'))\n",
    "bt.run('10-09-2017','12-09-2017')\n",
    "bm.run('10-09-2017','12-09-2017')\n",
    "\n",
    "if bt.current_balance > bm.current_balance:\n",
    "    print(\"Beating the market: {}% vs {}%\".format(((bt.current_balance/bt.starting_balance)-1)*100,\n",
    "                                                  ((bm.current_balance/bm.starting_balance)-1)*100))\n",
    "else:\n",
    "    print(\"Not good enough: {}% vs {}%\".format(((bt.current_balance/bt.starting_balance)-1)*100,\n",
    "                                               ((bm.current_balance/bm.starting_balance)-1)*100))\n",
    "\n"
   ]
  },
  {
   "cell_type": "markdown",
   "metadata": {},
   "source": [
    "# Returns mfi \n",
    "\n",
    "## Resolution 300\n",
    "\n",
    "### Eth\n",
    "\n",
    "- 2016: Beating the market: 628.266.823% vs 284%\n",
    "- 01-08-2017 -- 01-09-2017: Beating the market: 221% vs 16%\n",
    "- 01-01-2017 -- 01-09-2017: Beating the market: 2959753% vs 883%\n",
    "\n",
    "### LTC\n",
    "- 2016: Beating the market: 2102% vs -44%\n",
    "- 01-08-2017 -- 01-09-2017: Beating the market: 293% vs 4%\n",
    "- 01-01-2017 -- 01-09-2017: Beating the market: 1852202% vs 242%\n"
   ]
  },
  {
   "cell_type": "code",
   "execution_count": 4,
   "metadata": {},
   "outputs": [
    {
     "data": {
      "text/plain": [
       "24898.673040668808"
      ]
     },
     "execution_count": 4,
     "metadata": {},
     "output_type": "execute_result"
    }
   ],
   "source": [
    "bt.current_balance"
   ]
  },
  {
   "cell_type": "code",
   "execution_count": 3,
   "metadata": {},
   "outputs": [
    {
     "data": {
      "text/plain": [
       "0.96989314976643304"
      ]
     },
     "execution_count": 3,
     "metadata": {},
     "output_type": "execute_result"
    }
   ],
   "source": [
    "bt.current_balance"
   ]
  },
  {
   "cell_type": "code",
   "execution_count": 32,
   "metadata": {},
   "outputs": [
    {
     "data": {
      "text/plain": [
       "1504850761.0"
      ]
     },
     "execution_count": 32,
     "metadata": {},
     "output_type": "execute_result"
    }
   ],
   "source": [
    "import time\n",
    "time.mktime(time.gmtime()) - 300000"
   ]
  }
 ],
 "metadata": {
  "kernelspec": {
   "display_name": "Python 3",
   "language": "python",
   "name": "python3"
  },
  "language_info": {
   "codemirror_mode": {
    "name": "ipython",
    "version": 3
   },
   "file_extension": ".py",
   "mimetype": "text/x-python",
   "name": "python",
   "nbconvert_exporter": "python",
   "pygments_lexer": "ipython3",
   "version": "3.6.2"
  }
 },
 "nbformat": 4,
 "nbformat_minor": 2
}
